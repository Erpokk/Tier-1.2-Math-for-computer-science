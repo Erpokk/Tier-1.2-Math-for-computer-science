{
  "nbformat": 4,
  "nbformat_minor": 0,
  "metadata": {
    "colab": {
      "provenance": []
    },
    "kernelspec": {
      "name": "python3",
      "display_name": "Python 3"
    },
    "language_info": {
      "name": "python"
    }
  },
  "cells": [
    {
      "cell_type": "markdown",
      "source": [
        "\n",
        "\n",
        "Дано 4 точки: $M_0(0, 0, 0), M_1(1, \\frac{1}{3}, 0), M_2(0, 2, \\frac{1}{4}), M_3(\\frac{1}{2}, \\frac{1}{2}, 1)$.\n",
        "\n",
        "Також дано 3 вектори, які задають паралелепіпед із зазначеними точками:\n",
        "- $\\overline{a}=\\overline{M_0M_1}$\n",
        "- $\\overline{b}=\\overline{M_0M_2}$\n",
        "- $\\overline{c}=\\overline{M_0M_3}$\n",
        "\n",
        "Порахуй координати векторів через задані точки.  \n",
        "Порахуй об'єм, площу повної поверхні паралелепіпеда та кути між ребрами паралелепіпеда, координати решти вершин паралелепіпеда.\n",
        "\n"
      ],
      "metadata": {
        "id": "hcaEinFBN22V"
      }
    },
    {
      "cell_type": "code",
      "source": [
        "import plotly.graph_objects as go\n",
        "import numpy as np\n",
        "\n",
        "def parallelepiped_volume(a, b, c):\n",
        "    mixed = np.linalg.det(np.dstack([a,b,c]))\n",
        "    return np.linalg.norm(mixed)\n",
        "\n",
        "def parallelepiped_surface_area(a, b, c):\n",
        "    cross_product_ab = np.cross(a,b)\n",
        "    cross_product_bc = np.cross(b,c)\n",
        "    cross_product_ca = np.cross(c,a)\n",
        "    side_area_ab = np.linalg.norm(cross_product_ab)\n",
        "    side_area_bc = np.linalg.norm(cross_product_bc)\n",
        "    side_area_ca = np.linalg.norm(cross_product_ca)\n",
        "    total_surface_area = 2 * (side_area_ab + side_area_bc + side_area_ca)\n",
        "    return total_surface_area\n",
        "\n",
        "def calculate_cosine_angle(vector1, vector2):\n",
        "    dot_product = np.dot(vector1, vector2)\n",
        "    magnitude_vector1 = np.linalg.norm(vector1)\n",
        "    magnitude_vector2 = np.linalg.norm(vector2)\n",
        "\n",
        "    cosine_angle = np.arccos(dot_product / (magnitude_vector1 * magnitude_vector2))\n",
        "\n",
        "    return np.degrees(cosine_angle)\n",
        "\n",
        "vector_a = np.array([1, 1/3, 0])\n",
        "vector_b = np.array([0, 2, 1/4])\n",
        "vector_c = np.array([1/2, 1/2, 1])\n",
        "vector_ac = vector_a + vector_c\n",
        "vector_bc = vector_b + vector_c\n",
        "vector_ab = vector_a + vector_b\n",
        "vector_abc = vector_a + vector_b + vector_c\n",
        "\n",
        "fig = go.Figure()\n",
        "fig.add_trace(go.Scatter3d(x=[0, vector_a[0]], y=[0, vector_a[1]], z=[0, vector_a[2]],\n",
        "                           mode='lines+markers', marker=dict(size=5), line=dict(color='blue'), name='Вектор A(M0M1)',))\n",
        "fig.add_trace(go.Scatter3d(x=[0, vector_b[0]], y=[0, vector_b[1]], z=[0, vector_b[2]],\n",
        "                           mode='lines+markers', marker=dict(size=5), line=dict(color='red'), name='Вектор B(M0M2)'))\n",
        "fig.add_trace(go.Scatter3d(x=[0, vector_c[0]], y=[0, vector_c[1]], z=[0, vector_c[2]],\n",
        "                           mode='lines+markers', marker=dict(size=5), line=dict(color='green'), name='Вектор C(M0M3)'))\n",
        "fig.add_trace(go.Scatter3d(x=[vector_a[0], vector_ac[0]], y=[vector_a[1], vector_ac[1]], z=[vector_a[2], vector_ac[2]],\n",
        "                           mode='lines', line=dict(color='black', dash='dash'), name='Соединительная линия'))\n",
        "fig.add_trace(go.Scatter3d(x=[vector_c[0], vector_ac[0]], y=[vector_c[1], vector_ac[1]], z=[vector_c[2], vector_ac[2]],\n",
        "                           mode='lines', line=dict(color='black', dash='dash'), name='Соединительная линия'))\n",
        "fig.add_trace(go.Scatter3d(x=[vector_b[0], vector_bc[0]], y=[vector_b[1], vector_bc[1]], z=[vector_b[2], vector_bc[2]],\n",
        "                           mode='lines', line=dict(color='black', dash='dash'), name='Соединительная линия'))\n",
        "fig.add_trace(go.Scatter3d(x=[vector_c[0], vector_bc[0]], y=[vector_c[1], vector_bc[1]], z=[vector_c[2], vector_bc[2]],\n",
        "                           mode='lines', line=dict(color='black', dash='dash'), name='Соединительная линия'))\n",
        "fig.add_trace(go.Scatter3d(x=[vector_a[0], vector_ab[0]], y=[vector_a[1], vector_ab[1]], z=[vector_a[2], vector_ab[2]],\n",
        "                           mode='lines', line=dict(color='black', dash='dash'), name='Соединительная линия'))\n",
        "fig.add_trace(go.Scatter3d(x=[vector_b[0], vector_ab[0]], y=[vector_b[1], vector_ab[1]], z=[vector_b[2], vector_ab[2]],\n",
        "                           mode='lines', line=dict(color='black', dash='dash'), name='Соединительная линия'))\n",
        "fig.add_trace(go.Scatter3d(x=[vector_ab[0], vector_abc[0]], y=[vector_ab[1], vector_abc[1]], z=[vector_ab[2], vector_abc[2]],\n",
        "                           mode='lines', line=dict(color='black', dash='dash'), name='Соединительная линия'))\n",
        "fig.add_trace(go.Scatter3d(x=[vector_ac[0], vector_abc[0]], y=[vector_ac[1], vector_abc[1]], z=[vector_ac[2], vector_abc[2]],\n",
        "                           mode='lines', line=dict(color='black', dash='dash'), name='Соединительная линия'))\n",
        "fig.add_trace(go.Scatter3d(x=[vector_bc[0], vector_abc[0]], y=[vector_bc[1], vector_abc[1]], z=[vector_bc[2], vector_abc[2]],\n",
        "                           mode='lines', line=dict(color='black', dash='dash'), name='Соединительная линия'))\n",
        "\n",
        "\n",
        "fig.add_trace(go.Scatter3d(x=[vector_ac[0]], y=[vector_ac[1]], z=[vector_ac[2]], mode='markers+text', marker=dict(size=5), text=['M4 (1.5, 0.83, 1)'], textposition='top center',  name='Точка M4'))\n",
        "fig.add_trace(go.Scatter3d(x=[vector_bc[0]], y=[vector_bc[1]], z=[vector_bc[2]], mode='markers+text', marker=dict(size=5), text=['M5 (0.5, 2.5, 1.25)'], textposition='top center',  name='Точка M5'))\n",
        "fig.add_trace(go.Scatter3d(x=[vector_ab[0]], y=[vector_ab[1]], z=[vector_ab[2]], mode='markers+text', marker=dict(size=5), text=['M6 (1, 2.3, 0.25)'], textposition='top center',  name='Точка M6'))\n",
        "fig.add_trace(go.Scatter3d(x=[vector_abc[0]], y=[vector_abc[1]], z=[vector_abc[2]], mode='markers+text', marker=dict(size=5), text=['M7 ([1.5, 2.8, 1.25)'], textposition='top center',  name='Точка M7'))\n",
        "\n",
        "\n",
        "\n",
        "\n",
        "fig.update_layout(scene=dict(aspectmode='data'))\n",
        "fig.update_layout(scene=dict(xaxis_title='Вісь X', yaxis_title='Вісь Y', zaxis_title='Вісь Z'))\n",
        "fig.show()\n",
        "\n",
        "V = parallelepiped_volume(vector_a, vector_b, vector_c)\n",
        "S = parallelepiped_surface_area(vector_a, vector_b, vector_c)\n",
        "angle_ab =  calculate_cosine_angle(vector_a, vector_b)\n",
        "angle_ac =  calculate_cosine_angle(vector_a, vector_c)\n",
        "angle_bc =  calculate_cosine_angle(vector_b, vector_c)\n",
        "angle_ab, angle_ac, angle_bc"
      ],
      "metadata": {
        "colab": {
          "base_uri": "https://localhost:8080/",
          "height": 559
        },
        "id": "NkjcZdeVRWW0",
        "outputId": "20bb5870-30fb-4238-c287-2f213a780268"
      },
      "execution_count": 4,
      "outputs": [
        {
          "output_type": "display_data",
          "data": {
            "text/html": [
              "<html>\n",
              "<head><meta charset=\"utf-8\" /></head>\n",
              "<body>\n",
              "    <div>            <script src=\"https://cdnjs.cloudflare.com/ajax/libs/mathjax/2.7.5/MathJax.js?config=TeX-AMS-MML_SVG\"></script><script type=\"text/javascript\">if (window.MathJax && window.MathJax.Hub && window.MathJax.Hub.Config) {window.MathJax.Hub.Config({SVG: {font: \"STIX-Web\"}});}</script>                <script type=\"text/javascript\">window.PlotlyConfig = {MathJaxConfig: 'local'};</script>\n",
              "        <script charset=\"utf-8\" src=\"https://cdn.plot.ly/plotly-2.24.1.min.js\"></script>                <div id=\"6915a36d-b8e1-44c1-aed9-9e3f64f70645\" class=\"plotly-graph-div\" style=\"height:525px; width:100%;\"></div>            <script type=\"text/javascript\">                                    window.PLOTLYENV=window.PLOTLYENV || {};                                    if (document.getElementById(\"6915a36d-b8e1-44c1-aed9-9e3f64f70645\")) {                    Plotly.newPlot(                        \"6915a36d-b8e1-44c1-aed9-9e3f64f70645\",                        [{\"line\":{\"color\":\"blue\"},\"marker\":{\"size\":5},\"mode\":\"lines+markers\",\"name\":\"\\u0412\\u0435\\u043a\\u0442\\u043e\\u0440 A(M0M1)\",\"x\":[0,1.0],\"y\":[0,0.3333333333333333],\"z\":[0,0.0],\"type\":\"scatter3d\"},{\"line\":{\"color\":\"red\"},\"marker\":{\"size\":5},\"mode\":\"lines+markers\",\"name\":\"\\u0412\\u0435\\u043a\\u0442\\u043e\\u0440 B(M0M2)\",\"x\":[0,0.0],\"y\":[0,2.0],\"z\":[0,0.25],\"type\":\"scatter3d\"},{\"line\":{\"color\":\"green\"},\"marker\":{\"size\":5},\"mode\":\"lines+markers\",\"name\":\"\\u0412\\u0435\\u043a\\u0442\\u043e\\u0440 C(M0M3)\",\"x\":[0,0.5],\"y\":[0,0.5],\"z\":[0,1.0],\"type\":\"scatter3d\"},{\"line\":{\"color\":\"black\",\"dash\":\"dash\"},\"mode\":\"lines\",\"name\":\"\\u0421\\u043e\\u0435\\u0434\\u0438\\u043d\\u0438\\u0442\\u0435\\u043b\\u044c\\u043d\\u0430\\u044f \\u043b\\u0438\\u043d\\u0438\\u044f\",\"x\":[1.0,1.5],\"y\":[0.3333333333333333,0.8333333333333333],\"z\":[0.0,1.0],\"type\":\"scatter3d\"},{\"line\":{\"color\":\"black\",\"dash\":\"dash\"},\"mode\":\"lines\",\"name\":\"\\u0421\\u043e\\u0435\\u0434\\u0438\\u043d\\u0438\\u0442\\u0435\\u043b\\u044c\\u043d\\u0430\\u044f \\u043b\\u0438\\u043d\\u0438\\u044f\",\"x\":[0.5,1.5],\"y\":[0.5,0.8333333333333333],\"z\":[1.0,1.0],\"type\":\"scatter3d\"},{\"line\":{\"color\":\"black\",\"dash\":\"dash\"},\"mode\":\"lines\",\"name\":\"\\u0421\\u043e\\u0435\\u0434\\u0438\\u043d\\u0438\\u0442\\u0435\\u043b\\u044c\\u043d\\u0430\\u044f \\u043b\\u0438\\u043d\\u0438\\u044f\",\"x\":[0.0,0.5],\"y\":[2.0,2.5],\"z\":[0.25,1.25],\"type\":\"scatter3d\"},{\"line\":{\"color\":\"black\",\"dash\":\"dash\"},\"mode\":\"lines\",\"name\":\"\\u0421\\u043e\\u0435\\u0434\\u0438\\u043d\\u0438\\u0442\\u0435\\u043b\\u044c\\u043d\\u0430\\u044f \\u043b\\u0438\\u043d\\u0438\\u044f\",\"x\":[0.5,0.5],\"y\":[0.5,2.5],\"z\":[1.0,1.25],\"type\":\"scatter3d\"},{\"line\":{\"color\":\"black\",\"dash\":\"dash\"},\"mode\":\"lines\",\"name\":\"\\u0421\\u043e\\u0435\\u0434\\u0438\\u043d\\u0438\\u0442\\u0435\\u043b\\u044c\\u043d\\u0430\\u044f \\u043b\\u0438\\u043d\\u0438\\u044f\",\"x\":[1.0,1.0],\"y\":[0.3333333333333333,2.3333333333333335],\"z\":[0.0,0.25],\"type\":\"scatter3d\"},{\"line\":{\"color\":\"black\",\"dash\":\"dash\"},\"mode\":\"lines\",\"name\":\"\\u0421\\u043e\\u0435\\u0434\\u0438\\u043d\\u0438\\u0442\\u0435\\u043b\\u044c\\u043d\\u0430\\u044f \\u043b\\u0438\\u043d\\u0438\\u044f\",\"x\":[0.0,1.0],\"y\":[2.0,2.3333333333333335],\"z\":[0.25,0.25],\"type\":\"scatter3d\"},{\"line\":{\"color\":\"black\",\"dash\":\"dash\"},\"mode\":\"lines\",\"name\":\"\\u0421\\u043e\\u0435\\u0434\\u0438\\u043d\\u0438\\u0442\\u0435\\u043b\\u044c\\u043d\\u0430\\u044f \\u043b\\u0438\\u043d\\u0438\\u044f\",\"x\":[1.0,1.5],\"y\":[2.3333333333333335,2.8333333333333335],\"z\":[0.25,1.25],\"type\":\"scatter3d\"},{\"line\":{\"color\":\"black\",\"dash\":\"dash\"},\"mode\":\"lines\",\"name\":\"\\u0421\\u043e\\u0435\\u0434\\u0438\\u043d\\u0438\\u0442\\u0435\\u043b\\u044c\\u043d\\u0430\\u044f \\u043b\\u0438\\u043d\\u0438\\u044f\",\"x\":[1.5,1.5],\"y\":[0.8333333333333333,2.8333333333333335],\"z\":[1.0,1.25],\"type\":\"scatter3d\"},{\"line\":{\"color\":\"black\",\"dash\":\"dash\"},\"mode\":\"lines\",\"name\":\"\\u0421\\u043e\\u0435\\u0434\\u0438\\u043d\\u0438\\u0442\\u0435\\u043b\\u044c\\u043d\\u0430\\u044f \\u043b\\u0438\\u043d\\u0438\\u044f\",\"x\":[0.5,1.5],\"y\":[2.5,2.8333333333333335],\"z\":[1.25,1.25],\"type\":\"scatter3d\"},{\"marker\":{\"size\":5},\"mode\":\"markers+text\",\"name\":\"\\u0422\\u043e\\u0447\\u043a\\u0430 M4\",\"text\":[\"M4 (1.5, 0.83, 1)\"],\"textposition\":\"top center\",\"x\":[1.5],\"y\":[0.8333333333333333],\"z\":[1.0],\"type\":\"scatter3d\"},{\"marker\":{\"size\":5},\"mode\":\"markers+text\",\"name\":\"\\u0422\\u043e\\u0447\\u043a\\u0430 M5\",\"text\":[\"M5 (0.5, 2.5, 1.25)\"],\"textposition\":\"top center\",\"x\":[0.5],\"y\":[2.5],\"z\":[1.25],\"type\":\"scatter3d\"},{\"marker\":{\"size\":5},\"mode\":\"markers+text\",\"name\":\"\\u0422\\u043e\\u0447\\u043a\\u0430 M6\",\"text\":[\"M6 (1, 2.3, 0.25)\"],\"textposition\":\"top center\",\"x\":[1.0],\"y\":[2.3333333333333335],\"z\":[0.25],\"type\":\"scatter3d\"},{\"marker\":{\"size\":5},\"mode\":\"markers+text\",\"name\":\"\\u0422\\u043e\\u0447\\u043a\\u0430 M7\",\"text\":[\"M7 ([1.5, 2.8, 1.25)\"],\"textposition\":\"top center\",\"x\":[1.5],\"y\":[2.8333333333333335],\"z\":[1.25],\"type\":\"scatter3d\"}],                        {\"template\":{\"data\":{\"histogram2dcontour\":[{\"type\":\"histogram2dcontour\",\"colorbar\":{\"outlinewidth\":0,\"ticks\":\"\"},\"colorscale\":[[0.0,\"#0d0887\"],[0.1111111111111111,\"#46039f\"],[0.2222222222222222,\"#7201a8\"],[0.3333333333333333,\"#9c179e\"],[0.4444444444444444,\"#bd3786\"],[0.5555555555555556,\"#d8576b\"],[0.6666666666666666,\"#ed7953\"],[0.7777777777777778,\"#fb9f3a\"],[0.8888888888888888,\"#fdca26\"],[1.0,\"#f0f921\"]]}],\"choropleth\":[{\"type\":\"choropleth\",\"colorbar\":{\"outlinewidth\":0,\"ticks\":\"\"}}],\"histogram2d\":[{\"type\":\"histogram2d\",\"colorbar\":{\"outlinewidth\":0,\"ticks\":\"\"},\"colorscale\":[[0.0,\"#0d0887\"],[0.1111111111111111,\"#46039f\"],[0.2222222222222222,\"#7201a8\"],[0.3333333333333333,\"#9c179e\"],[0.4444444444444444,\"#bd3786\"],[0.5555555555555556,\"#d8576b\"],[0.6666666666666666,\"#ed7953\"],[0.7777777777777778,\"#fb9f3a\"],[0.8888888888888888,\"#fdca26\"],[1.0,\"#f0f921\"]]}],\"heatmap\":[{\"type\":\"heatmap\",\"colorbar\":{\"outlinewidth\":0,\"ticks\":\"\"},\"colorscale\":[[0.0,\"#0d0887\"],[0.1111111111111111,\"#46039f\"],[0.2222222222222222,\"#7201a8\"],[0.3333333333333333,\"#9c179e\"],[0.4444444444444444,\"#bd3786\"],[0.5555555555555556,\"#d8576b\"],[0.6666666666666666,\"#ed7953\"],[0.7777777777777778,\"#fb9f3a\"],[0.8888888888888888,\"#fdca26\"],[1.0,\"#f0f921\"]]}],\"heatmapgl\":[{\"type\":\"heatmapgl\",\"colorbar\":{\"outlinewidth\":0,\"ticks\":\"\"},\"colorscale\":[[0.0,\"#0d0887\"],[0.1111111111111111,\"#46039f\"],[0.2222222222222222,\"#7201a8\"],[0.3333333333333333,\"#9c179e\"],[0.4444444444444444,\"#bd3786\"],[0.5555555555555556,\"#d8576b\"],[0.6666666666666666,\"#ed7953\"],[0.7777777777777778,\"#fb9f3a\"],[0.8888888888888888,\"#fdca26\"],[1.0,\"#f0f921\"]]}],\"contourcarpet\":[{\"type\":\"contourcarpet\",\"colorbar\":{\"outlinewidth\":0,\"ticks\":\"\"}}],\"contour\":[{\"type\":\"contour\",\"colorbar\":{\"outlinewidth\":0,\"ticks\":\"\"},\"colorscale\":[[0.0,\"#0d0887\"],[0.1111111111111111,\"#46039f\"],[0.2222222222222222,\"#7201a8\"],[0.3333333333333333,\"#9c179e\"],[0.4444444444444444,\"#bd3786\"],[0.5555555555555556,\"#d8576b\"],[0.6666666666666666,\"#ed7953\"],[0.7777777777777778,\"#fb9f3a\"],[0.8888888888888888,\"#fdca26\"],[1.0,\"#f0f921\"]]}],\"surface\":[{\"type\":\"surface\",\"colorbar\":{\"outlinewidth\":0,\"ticks\":\"\"},\"colorscale\":[[0.0,\"#0d0887\"],[0.1111111111111111,\"#46039f\"],[0.2222222222222222,\"#7201a8\"],[0.3333333333333333,\"#9c179e\"],[0.4444444444444444,\"#bd3786\"],[0.5555555555555556,\"#d8576b\"],[0.6666666666666666,\"#ed7953\"],[0.7777777777777778,\"#fb9f3a\"],[0.8888888888888888,\"#fdca26\"],[1.0,\"#f0f921\"]]}],\"mesh3d\":[{\"type\":\"mesh3d\",\"colorbar\":{\"outlinewidth\":0,\"ticks\":\"\"}}],\"scatter\":[{\"fillpattern\":{\"fillmode\":\"overlay\",\"size\":10,\"solidity\":0.2},\"type\":\"scatter\"}],\"parcoords\":[{\"type\":\"parcoords\",\"line\":{\"colorbar\":{\"outlinewidth\":0,\"ticks\":\"\"}}}],\"scatterpolargl\":[{\"type\":\"scatterpolargl\",\"marker\":{\"colorbar\":{\"outlinewidth\":0,\"ticks\":\"\"}}}],\"bar\":[{\"error_x\":{\"color\":\"#2a3f5f\"},\"error_y\":{\"color\":\"#2a3f5f\"},\"marker\":{\"line\":{\"color\":\"#E5ECF6\",\"width\":0.5},\"pattern\":{\"fillmode\":\"overlay\",\"size\":10,\"solidity\":0.2}},\"type\":\"bar\"}],\"scattergeo\":[{\"type\":\"scattergeo\",\"marker\":{\"colorbar\":{\"outlinewidth\":0,\"ticks\":\"\"}}}],\"scatterpolar\":[{\"type\":\"scatterpolar\",\"marker\":{\"colorbar\":{\"outlinewidth\":0,\"ticks\":\"\"}}}],\"histogram\":[{\"marker\":{\"pattern\":{\"fillmode\":\"overlay\",\"size\":10,\"solidity\":0.2}},\"type\":\"histogram\"}],\"scattergl\":[{\"type\":\"scattergl\",\"marker\":{\"colorbar\":{\"outlinewidth\":0,\"ticks\":\"\"}}}],\"scatter3d\":[{\"type\":\"scatter3d\",\"line\":{\"colorbar\":{\"outlinewidth\":0,\"ticks\":\"\"}},\"marker\":{\"colorbar\":{\"outlinewidth\":0,\"ticks\":\"\"}}}],\"scattermapbox\":[{\"type\":\"scattermapbox\",\"marker\":{\"colorbar\":{\"outlinewidth\":0,\"ticks\":\"\"}}}],\"scatterternary\":[{\"type\":\"scatterternary\",\"marker\":{\"colorbar\":{\"outlinewidth\":0,\"ticks\":\"\"}}}],\"scattercarpet\":[{\"type\":\"scattercarpet\",\"marker\":{\"colorbar\":{\"outlinewidth\":0,\"ticks\":\"\"}}}],\"carpet\":[{\"aaxis\":{\"endlinecolor\":\"#2a3f5f\",\"gridcolor\":\"white\",\"linecolor\":\"white\",\"minorgridcolor\":\"white\",\"startlinecolor\":\"#2a3f5f\"},\"baxis\":{\"endlinecolor\":\"#2a3f5f\",\"gridcolor\":\"white\",\"linecolor\":\"white\",\"minorgridcolor\":\"white\",\"startlinecolor\":\"#2a3f5f\"},\"type\":\"carpet\"}],\"table\":[{\"cells\":{\"fill\":{\"color\":\"#EBF0F8\"},\"line\":{\"color\":\"white\"}},\"header\":{\"fill\":{\"color\":\"#C8D4E3\"},\"line\":{\"color\":\"white\"}},\"type\":\"table\"}],\"barpolar\":[{\"marker\":{\"line\":{\"color\":\"#E5ECF6\",\"width\":0.5},\"pattern\":{\"fillmode\":\"overlay\",\"size\":10,\"solidity\":0.2}},\"type\":\"barpolar\"}],\"pie\":[{\"automargin\":true,\"type\":\"pie\"}]},\"layout\":{\"autotypenumbers\":\"strict\",\"colorway\":[\"#636efa\",\"#EF553B\",\"#00cc96\",\"#ab63fa\",\"#FFA15A\",\"#19d3f3\",\"#FF6692\",\"#B6E880\",\"#FF97FF\",\"#FECB52\"],\"font\":{\"color\":\"#2a3f5f\"},\"hovermode\":\"closest\",\"hoverlabel\":{\"align\":\"left\"},\"paper_bgcolor\":\"white\",\"plot_bgcolor\":\"#E5ECF6\",\"polar\":{\"bgcolor\":\"#E5ECF6\",\"angularaxis\":{\"gridcolor\":\"white\",\"linecolor\":\"white\",\"ticks\":\"\"},\"radialaxis\":{\"gridcolor\":\"white\",\"linecolor\":\"white\",\"ticks\":\"\"}},\"ternary\":{\"bgcolor\":\"#E5ECF6\",\"aaxis\":{\"gridcolor\":\"white\",\"linecolor\":\"white\",\"ticks\":\"\"},\"baxis\":{\"gridcolor\":\"white\",\"linecolor\":\"white\",\"ticks\":\"\"},\"caxis\":{\"gridcolor\":\"white\",\"linecolor\":\"white\",\"ticks\":\"\"}},\"coloraxis\":{\"colorbar\":{\"outlinewidth\":0,\"ticks\":\"\"}},\"colorscale\":{\"sequential\":[[0.0,\"#0d0887\"],[0.1111111111111111,\"#46039f\"],[0.2222222222222222,\"#7201a8\"],[0.3333333333333333,\"#9c179e\"],[0.4444444444444444,\"#bd3786\"],[0.5555555555555556,\"#d8576b\"],[0.6666666666666666,\"#ed7953\"],[0.7777777777777778,\"#fb9f3a\"],[0.8888888888888888,\"#fdca26\"],[1.0,\"#f0f921\"]],\"sequentialminus\":[[0.0,\"#0d0887\"],[0.1111111111111111,\"#46039f\"],[0.2222222222222222,\"#7201a8\"],[0.3333333333333333,\"#9c179e\"],[0.4444444444444444,\"#bd3786\"],[0.5555555555555556,\"#d8576b\"],[0.6666666666666666,\"#ed7953\"],[0.7777777777777778,\"#fb9f3a\"],[0.8888888888888888,\"#fdca26\"],[1.0,\"#f0f921\"]],\"diverging\":[[0,\"#8e0152\"],[0.1,\"#c51b7d\"],[0.2,\"#de77ae\"],[0.3,\"#f1b6da\"],[0.4,\"#fde0ef\"],[0.5,\"#f7f7f7\"],[0.6,\"#e6f5d0\"],[0.7,\"#b8e186\"],[0.8,\"#7fbc41\"],[0.9,\"#4d9221\"],[1,\"#276419\"]]},\"xaxis\":{\"gridcolor\":\"white\",\"linecolor\":\"white\",\"ticks\":\"\",\"title\":{\"standoff\":15},\"zerolinecolor\":\"white\",\"automargin\":true,\"zerolinewidth\":2},\"yaxis\":{\"gridcolor\":\"white\",\"linecolor\":\"white\",\"ticks\":\"\",\"title\":{\"standoff\":15},\"zerolinecolor\":\"white\",\"automargin\":true,\"zerolinewidth\":2},\"scene\":{\"xaxis\":{\"backgroundcolor\":\"#E5ECF6\",\"gridcolor\":\"white\",\"linecolor\":\"white\",\"showbackground\":true,\"ticks\":\"\",\"zerolinecolor\":\"white\",\"gridwidth\":2},\"yaxis\":{\"backgroundcolor\":\"#E5ECF6\",\"gridcolor\":\"white\",\"linecolor\":\"white\",\"showbackground\":true,\"ticks\":\"\",\"zerolinecolor\":\"white\",\"gridwidth\":2},\"zaxis\":{\"backgroundcolor\":\"#E5ECF6\",\"gridcolor\":\"white\",\"linecolor\":\"white\",\"showbackground\":true,\"ticks\":\"\",\"zerolinecolor\":\"white\",\"gridwidth\":2}},\"shapedefaults\":{\"line\":{\"color\":\"#2a3f5f\"}},\"annotationdefaults\":{\"arrowcolor\":\"#2a3f5f\",\"arrowhead\":0,\"arrowwidth\":1},\"geo\":{\"bgcolor\":\"white\",\"landcolor\":\"#E5ECF6\",\"subunitcolor\":\"white\",\"showland\":true,\"showlakes\":true,\"lakecolor\":\"white\"},\"title\":{\"x\":0.05},\"mapbox\":{\"style\":\"light\"}}},\"scene\":{\"aspectmode\":\"data\",\"xaxis\":{\"title\":{\"text\":\"\\u0412\\u0456\\u0441\\u044c X\"}},\"yaxis\":{\"title\":{\"text\":\"\\u0412\\u0456\\u0441\\u044c Y\"}},\"zaxis\":{\"title\":{\"text\":\"\\u0412\\u0456\\u0441\\u044c Z\"}}}},                        {\"responsive\": true}                    ).then(function(){\n",
              "                            \n",
              "var gd = document.getElementById('6915a36d-b8e1-44c1-aed9-9e3f64f70645');\n",
              "var x = new MutationObserver(function (mutations, observer) {{\n",
              "        var display = window.getComputedStyle(gd).display;\n",
              "        if (!display || display === 'none') {{\n",
              "            console.log([gd, 'removed!']);\n",
              "            Plotly.purge(gd);\n",
              "            observer.disconnect();\n",
              "        }}\n",
              "}});\n",
              "\n",
              "// Listen for the removal of the full notebook cells\n",
              "var notebookContainer = gd.closest('#notebook-container');\n",
              "if (notebookContainer) {{\n",
              "    x.observe(notebookContainer, {childList: true});\n",
              "}}\n",
              "\n",
              "// Listen for the clearing of the current output cell\n",
              "var outputEl = gd.closest('.output');\n",
              "if (outputEl) {{\n",
              "    x.observe(outputEl, {childList: true});\n",
              "}}\n",
              "\n",
              "                        })                };                            </script>        </div>\n",
              "</body>\n",
              "</html>"
            ]
          },
          "metadata": {}
        },
        {
          "output_type": "execute_result",
          "data": {
            "text/plain": [
              "(71.71246981426138, 58.90906964232697, 59.57768271314148)"
            ]
          },
          "metadata": {},
          "execution_count": 4
        }
      ]
    },
    {
      "cell_type": "markdown",
      "source": [
        "$\\overline{a} = M_1-M_0 = \\left (\\begin{array}{cc}\n",
        "1\\\\\n",
        "\\frac{1}{3}\\\\\n",
        "0\n",
        "\\end{array}\\right)\n",
        "\\\\\n",
        "\\overline{b} = M_2-M_0 = \\left (\\begin{array}{cc}\n",
        "0\\\\\n",
        "2\\\\\n",
        "0.25\n",
        "\\end{array}\\right)\n",
        "\\\\\n",
        "\\overline{c} = M_3-M_0 = \\left (\\begin{array}{cc}\n",
        "0.5\\\\\n",
        "0.5\\\\\n",
        "1\n",
        "\\end{array}\\right)\n",
        "$"
      ],
      "metadata": {
        "id": "sktokwYqSqhu"
      }
    },
    {
      "cell_type": "markdown",
      "source": [
        "$\n",
        "V =|\\overline{a} * (\\overline{b} * \\overline{c})| = 1.91\\\\\n",
        "S = 10.5\\\\\n",
        "\\angle(a, b) = 71.7\\\\\n",
        "\\angle(a, c) = 58.9\\\\\n",
        "\\angle(b, c) = 59.6\\\\\n",
        "M_4 = (1.5, 0.83, 1)\\\\\n",
        "M_5 = (0.5, 2.5 , 1.25)\\\\\n",
        "M_6 = (1  , 2.3 , 0.25)\\\\\n",
        "M_7 = (1.5, 2.83, 1.25)\n",
        "$"
      ],
      "metadata": {
        "id": "SVtaqixdAuJP"
      }
    },
    {
      "cell_type": "markdown",
      "source": [],
      "metadata": {
        "id": "j-BftieoCHTu"
      }
    }
  ]
}