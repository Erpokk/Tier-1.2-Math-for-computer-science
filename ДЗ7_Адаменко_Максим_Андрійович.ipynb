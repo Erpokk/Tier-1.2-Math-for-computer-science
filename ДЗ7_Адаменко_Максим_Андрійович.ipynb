{
  "nbformat": 4,
  "nbformat_minor": 0,
  "metadata": {
    "colab": {
      "provenance": [],
      "collapsed_sections": [
        "CChksUmMAbHT"
      ]
    },
    "kernelspec": {
      "name": "python3",
      "display_name": "Python 3"
    },
    "language_info": {
      "name": "python"
    }
  },
  "cells": [
    {
      "cell_type": "markdown",
      "source": [
        "## Нагадування по Markdown"
      ],
      "metadata": {
        "id": "CChksUmMAbHT"
      }
    },
    {
      "cell_type": "markdown",
      "source": [
        "Надаємо невелике нагадування записів в\n",
        "[Markdown](https://colab.research.google.com/notebooks/markdown_guide.ipynb) (LaTeX):\n",
        "\n",
        "Markdown | Preview\n",
        "--- | ---\n",
        "`**bold text**` | **bold text**\n",
        " \\\\$\\frac{x}{y}\\\\$ | $\\frac{x}{y}$\n",
        " \\\\$p^{x}_{y}\\\\$ | $p^{x}_{y}$\n",
        "\\\\$x \\cdot y\\\\$ | $x \\cdot y$\n",
        "\\\\$\\sqrt{x}\\\\$ | $\\sqrt{x}$\n",
        "\\\\$\\pi\\\\$ | $\\pi$\n",
        "\\\\$\\approx\\\\$ | $\\approx$\n",
        "\n",
        "І ще декілька прикладів:\n",
        "\n",
        "```markdown\n",
        "$y=x^2$\n",
        "\n",
        "$e^{i\\pi} + 1 = 0$\n",
        "\n",
        "$e^x=\\sum_{i=0}^\\infty \\frac{1}{i!}x^i$\n",
        "\n",
        "$\\frac{n!}{k!(n-k)!} = {n \\choose k}$\n",
        "\n",
        "$A_{m,n} =\n",
        " \\begin{pmatrix}\n",
        "  a_{1,1} & a_{1,2} & \\cdots & a_{1,n} \\\\\n",
        "  a_{2,1} & a_{2,2} & \\cdots & a_{2,n} \\\\\n",
        "  \\vdots  & \\vdots  & \\ddots & \\vdots  \\\\\n",
        "  a_{m,1} & a_{m,2} & \\cdots & a_{m,n}\n",
        " \\end{pmatrix}$\n",
        "```\n",
        "\n",
        "$y=x^2$\n",
        "\n",
        "$e^{i\\pi} + 1 = 0$\n",
        "\n",
        "$e^x=\\sum_{i=0}^\\infty \\frac{1}{i!}x^i$\n",
        "\n",
        "$\\frac{n!}{k!(n-k)!} = {n \\choose k}$\n",
        "\n",
        "$A_{m,n} =\n",
        " \\begin{pmatrix}\n",
        "  a_{1,1} & a_{1,2} & \\cdots & a_{1,n} \\\\\n",
        "  a_{2,1} & a_{2,2} & \\cdots & a_{2,n} \\\\\n",
        "  \\vdots  & \\vdots  & \\ddots & \\vdots  \\\\\n",
        "  a_{m,1} & a_{m,2} & \\cdots & a_{m,n}\n",
        " \\end{pmatrix}$\n",
        "\n",
        " ---"
      ],
      "metadata": {
        "id": "ufhW5oZEzsvI"
      }
    },
    {
      "cell_type": "markdown",
      "source": [
        "## Завдання 1\n",
        "\n",
        "В партії з 50 деталей 5 нестандартних. Визнач ймовірність того, що серед обраних навмання для перевірки шести деталей дві виявляться нестандартними. Розв'яжи аналітично.\n",
        "\n",
        "Примітка: в даній задачі не потрібно рахувати конкретне число.\n",
        "\n",
        "---\n",
        "Розв'язання:\n",
        "Позначимо через 𝐴 подію, яка полягає у тому, що серед 6\n",
        "деталей 4 стандартні, а 2 нестандартні. Деталі беруться навмання, тому\n",
        "можливою елементарною подією є будь-яка група з 6 деталей, вибраних із 50\n",
        "деталей. Щоб визначити, до якого типу підмножин належать ці групи,\n",
        "розглянемо одну з них. Нехай у групі виявилося 4 стандартні і 2 нестандартні\n",
        "деталі, тобто маємо {𝐶, 𝐶, 𝐶, 𝐶, 𝐻, 𝐻}. Виконаємо у групі довільне переставлення,\n",
        "наприклад {𝐶, 𝐻, 𝐶, 𝐶, 𝐶, 𝐻}. Група не змінилась – у ній як було, так і залишилося 2 нестандартні деталі. Отже, порядок у групі неістотний, тому такі групи належать\n",
        "до комбінацій. Усі елементарні події рівноможливі, для обчислення ймовірності\n",
        "застосуємо формулу класичного означення ймовірності.\n",
        "Загальна кількість елементарних подій\\\n",
        "$n = С^6_{50}$\\\n",
        "Щоб обчислити кількість елементарних подій, які становлять подію 𝐴,\n",
        "міркуємо так: 4 стандартні деталі з 45 можна вибрати $C^4_{45}$ способами, а 2\n",
        "нестандартні з 5 можна $C^2_5$ способами. Отже, $m = C^4_{45} * C^2_5$\\\n",
        "$P(A) =\\frac{m}{n} = \\frac{C^4_{45} * C^2_5}{С^6_{50}}$\n",
        "\n",
        "\n"
      ],
      "metadata": {
        "id": "xXSaXssaSwlH"
      }
    },
    {
      "cell_type": "markdown",
      "source": [
        "## Завдання 2\n",
        "\n",
        "Із 15 рейсів, що виконуються з аеропорту протягом доби, 60 % рейсів виконуються на власному літаковому парку. Знайди ймовірність того, що з вибраних навмання 5 рейсів рівно 3 виконуються на власному парку. Виріши аналітично.\n",
        "\n",
        "---\n",
        "Розв'язання:\n",
        "Позначимо через 𝐴 подію, яка полягає у тому, що серед 5 рейсів 2 загальні, а 3 на власному парку . Рейси виконуються навмання, тому можливою елементарною подією є будь-яка група рейсів з 5, із 15 рейсів. Щоб визначити, до якого типу підмножин належать ці групи, розглянемо одну з них. Нехай у групі виявилося 2 загальні і 3 на власному, тобто маємо {З, З, В, В, В}. Виконаємо у групі довільне переставлення, наприклад {В, З, В, З, В }. Група не змінилась – у ній як було, так і залишилося 3 на власному. Отже, порядок у групі неістотний, тому такі групи належать до комбінацій. Усі елементарні події рівноможливі, для обчислення ймовірності застосуємо формулу класичного означення ймовірності. Загальна кількість елементарних подій\\\n",
        "$n = С^5_{15}$\\\n",
        "Щоб обчислити кількість елементарних подій, які становлять подію 𝐴,\n",
        "міркуємо так:В нас 15 рейсів і 60% виконується на власному парку. Отже 6 рейсів загальні і 9 на власному парку. 2 загальні з 6 можна вибрати $C^2_{6}$ способами, а 3 на власному з 9 можна $C^3_9$ способами. Отже, $m = C^2_{6} * C^3_9$\\\n",
        "$P(A) =\\frac{m}{n} = \\frac{C^2_{6} * C^3_9}{С^5_{15}} = \\frac{1260}{3003} = 0,419$\\\n",
        "Також є формула біноміального розподілу, але в мене чомусь не сходяться відповіді:\n",
        "$P(X=3) = \\binom{5}{3} * 0,6^3* (1-0,6)^{5-3}$, де\\\n",
        "n=5 (кількість випробувань),\\\n",
        "k=3 (кількість успішних подій, коли рейс виконується на власному парку),\\\n",
        "p=0.6 (тобто ймовірність того, що рейс виконується на власному парку).\\\n",
        "$P(X=3) = 10 * 0,216* 0,16 = 0,345$\n"
      ],
      "metadata": {
        "id": "5Cw_lCtQwZwr"
      }
    },
    {
      "cell_type": "markdown",
      "source": [
        "## Завдання 3\n",
        "\n",
        "Підкидають три гральні кубики. Що ймовірніше: отримати в сумі очок, що випали, 11 або 12?  \n",
        "Розв'яжи програмно, згенерувавши всі можливі комбінації.\n",
        "\n",
        "---\n",
        "Розв'язання:"
      ],
      "metadata": {
        "id": "SL119N5bwqxc"
      }
    },
    {
      "cell_type": "code",
      "source": [
        "import itertools\n",
        "\n",
        "\n",
        "def generate_dice_combinations():\n",
        "    list_of_six = []\n",
        "    list_of_six = itertools.product(range(1, 7), repeat=3)\n",
        "    return list_of_six\n",
        "\n",
        "dice_combinations = generate_dice_combinations()\n",
        "\n",
        "\n",
        "count_11 = 0\n",
        "count_12 = 0\n",
        "\n",
        "for combination in dice_combinations:\n",
        "    if sum(combination) == 11:\n",
        "        count_11 += 1\n",
        "    elif sum(combination) == 12:\n",
        "        count_12 += 1\n",
        "\n",
        "if count_11 > count_12:\n",
        "    print(\"Сума очок 11 ймовірніша.\")\n",
        "elif count_12 > count_11:\n",
        "    print(\"Сума очок 12 ймовірніша.\")\n",
        "else:\n",
        "    print(\"Ймовірності суми очок 11 і 12 рівні.\")\n",
        "\n"
      ],
      "metadata": {
        "id": "xkvYYtY3wZAR",
        "colab": {
          "base_uri": "https://localhost:8080/"
        },
        "outputId": "44bfe764-6657-4059-f1e8-5795f1f3aa88"
      },
      "execution_count": 52,
      "outputs": [
        {
          "output_type": "stream",
          "name": "stdout",
          "text": [
            "Сума очок 11 ймовірніша.\n"
          ]
        }
      ]
    },
    {
      "cell_type": "markdown",
      "source": [
        "## Завдання 4\n",
        "\n",
        "Схема електричного ланцюга наведена на рисунку. Через\n",
        "ділянку схеми, що вийшла з ладу, струм не проходить. Нехай подія\n",
        "$A_i$ – вихід з ладу елемента $i$ , $i = \\overline{1,6}$\n",
        ". Вирази події $A$ й $\\overline{A}$\n",
        "через події $A_i$, якщо $A$ – вихід з ладу всієї схеми. Розв'яжи аналітично.\n",
        "\n",
        "Примітка: виразити необхідно через події, а не їх ймовірності.\n",
        "\n"
      ],
      "metadata": {
        "id": "lxBShyhaBZO_"
      }
    },
    {
      "cell_type": "markdown",
      "source": [
        "![image.png](data:image/png;base64,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)"
      ],
      "metadata": {
        "id": "vWJXVmWCBZG5"
      }
    },
    {
      "cell_type": "markdown",
      "source": [
        "---\n",
        "Розв'язання:\\\n",
        "$A = (A_1 \\cap A_2) \\cup (A_5 \\cap(A_3 \\cup A_4)) \\cup A_6$\\\n",
        "$\\overline{A} = (\\overline{A_1} \\cup \\overline{A_2}) \\cap (\\overline{A_5} \\cup \\overline{A_3} \\cap \\overline{A_4}) \\cap \\overline{A_6}$"
      ],
      "metadata": {
        "id": "lPwmT837BY6V"
      }
    },
    {
      "cell_type": "markdown",
      "source": [
        "## Завдання 5\n",
        "\n",
        "На площині накреслені дві концентричні окружності (мають спільний центр),\n",
        "радіуси яких 5 і 10 см відповідно. Знайди ймовірність того, що точка, кинута навмання у велике коло, потрапить також у кільце, утворене побудованими окружностями.\n",
        "\n",
        "Розв'яжи аналітично.\n",
        "\n",
        "---\n",
        "Розв'язання:\\\n",
        "$A$ - подія що точка птрапила у кільце\\\n",
        "$B$ = Коло з радіусом 5\\\n",
        "$C$ = Коло з радіусом 10\\\n",
        "$P(A) = \\frac{m(g)}{m(G)}$\\\n",
        "Загальна площа($S_C$) = $\\pi*10^2 = 314(m^2)$\\\n",
        "Площа яку ми шукаємо = $S_C - S_B = 314 - \\pi*5^2 = 235,5 $\\\n",
        "Отже: $P(A) = \\frac{235,5}{314} = 0,75$\n"
      ],
      "metadata": {
        "id": "qBhWCJHsOyFu"
      }
    },
    {
      "cell_type": "markdown",
      "source": [
        "## Завдання 6\n",
        "Урна містить одну кулю, про яку відомо, що вона або біла, або чорна з однаковими ймовірностями. В урну кладуть білу кулю і потім навмання виймають одну кулю. Вона виявилася білою. Яка ймовірність того, що куля, яка залишилася, є білою? Розв'яжи аналітично  \n",
        "\n",
        "---\n",
        "Розв'язання:\\\n",
        "$H_1$ - біла і біла куля.\\\n",
        "$H_2$ - біла і чорна куля.\\\n",
        "$A$ - подія дістати білу кулю.\\\n",
        "За формулою Байєса:\\\n",
        "$P(A) = P(A|H_1)*P(H_1) + P(A|H_2)*P(H_2) = 1 *  \\frac{1}{2} + \\frac{1}{2}* \\frac{1}{2} = 0.75$\\\n",
        "$P(H_1|A) = \\frac{P(H_1)*P(A|H_1)}{P(A)} = \\frac{0.25 * 1}{0.75} = \\frac{2}{3} = 0.66$"
      ],
      "metadata": {
        "id": "5fEt2pndPj66"
      }
    },
    {
      "cell_type": "markdown",
      "source": [
        "## Завдання 7. Випадкове блукання\n",
        "Ціна акцій компанії в кожен момент часу може з рівною ймовірністю збільшитись на 2 або зменшитись на 1. В початковий момент часу $t=0$ ціна рівна 0. Визнач середню ціну акції через 3 одиниці часу ($t=3$).  \n",
        "а) Виріши аналітично.\n",
        "\n",
        "б) Напиши симуляцію данного процесу. Порахуй середнє значення та намалюй гістограму ціни для 10, 100, 1000 та 10000 симуляцій.\n",
        "\n",
        "---\n",
        "Розв'язання:\\\n",
        "Ціна в нас починається з нуля отже на кожен крок ми можем або збільшитись на 2, або зменшитись на 1. Якщо весь час +2, то отримаємо 6, яку ми можемо отримати лише одним способом, як і -3, якщо весь час буде -1. Якщо будуть різні варінати, то можна отримати 0 або 3,кожен 3 різними способами. Отже закоголом в нас 4 варіанти, до яких можна прийти 8 способами. За формулою\n",
        "$Середня ціна = -3 * \\frac{1}{8} + 0 * \\frac{3}{8} + 3 * \\frac{3}{8} + 6 * \\frac{1}{8} = -\\frac{3}{8} + \\frac{3}{8} + 0 + \\frac{6}{8} = \\frac{3}{4} = 0.75$\n"
      ],
      "metadata": {
        "id": "ACIVtHYWi9W1"
      }
    },
    {
      "cell_type": "code",
      "source": [
        "import numpy as np\n",
        "import matplotlib.pyplot as plt\n",
        "\n",
        "def stock_price_at_time(t):\n",
        "    price = 0\n",
        "    for _ in range(t):\n",
        "        price += np.random.choice([2, -1])\n",
        "    return price\n",
        "\n",
        "def simulate_n_times(n: int, t: int) -> list:\n",
        "    np.random.seed(42)\n",
        "    prices = []\n",
        "    for _ in range(n):\n",
        "        prices.append(stock_price_at_time(t))\n",
        "    return prices\n",
        "\n",
        "\n",
        "num_simulations_list = [10, 100, 1000, 10000]\n",
        "num_time_steps = 3\n",
        "\n",
        "\n",
        "for num_simulations in num_simulations_list:\n",
        "    prices = simulate_n_times(num_simulations, num_time_steps)\n",
        "    avg_price = np.mean(prices)\n",
        "    print(f\"Середня ціна акції для {num_simulations} симуляцій: {avg_price:.2f}\")\n",
        "\n"
      ],
      "metadata": {
        "id": "A7j1cFe9i8lf",
        "colab": {
          "base_uri": "https://localhost:8080/"
        },
        "outputId": "c9bf232c-ae1b-41ed-dd3d-1a752cc0a2d5"
      },
      "execution_count": 77,
      "outputs": [
        {
          "output_type": "stream",
          "name": "stdout",
          "text": [
            "Середня ціна акції для 10 симуляцій: 1.20\n",
            "Середня ціна акції для 100 симуляцій: 1.53\n",
            "Середня ціна акції для 1000 симуляцій: 1.55\n",
            "Середня ціна акції для 10000 симуляцій: 1.49\n"
          ]
        }
      ]
    },
    {
      "cell_type": "code",
      "source": [],
      "metadata": {
        "id": "cdHtg14_DzV4"
      },
      "execution_count": null,
      "outputs": []
    },
    {
      "cell_type": "code",
      "source": [
        "import matplotlib.pyplot as plt\n",
        "num_simulations_list = [10, 100, 1000, 10000]\n",
        "\n",
        "\n",
        "for i, n in enumerate(num_simulations_list):\n",
        "    plt.subplot(2, 2, i+1)\n",
        "    prices = simulate_n_times(n, 3)\n",
        "    plt.hist(prices, bins=20, alpha=0.7)\n",
        "    plt.title(f'{n} симуляцій')\n",
        "    plt.xlabel('Ціна акцій')\n",
        "    plt.ylabel('Частота')\n",
        "    plt.grid(True)\n",
        "\n",
        "plt.tight_layout()\n",
        "plt.show()"
      ],
      "metadata": {
        "id": "ajrQ4SjoqQo7",
        "colab": {
          "base_uri": "https://localhost:8080/",
          "height": 486
        },
        "outputId": "dec0cf7b-6b35-47f1-a72b-23e8d0d65abf"
      },
      "execution_count": 76,
      "outputs": [
        {
          "output_type": "display_data",
          "data": {
            "text/plain": [
              "<Figure size 640x480 with 4 Axes>"
            ],
            "image/png": "[encoded data removed]"
          },
          "metadata": {}
        }
      ]
    }
  ]
}