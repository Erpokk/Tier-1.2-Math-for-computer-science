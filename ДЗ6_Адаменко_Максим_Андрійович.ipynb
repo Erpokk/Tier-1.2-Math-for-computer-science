{
  "nbformat": 4,
  "nbformat_minor": 0,
  "metadata": {
    "colab": {
      "provenance": []
    },
    "kernelspec": {
      "name": "python3",
      "display_name": "Python 3"
    },
    "language_info": {
      "name": "python"
    }
  },
  "cells": [
    {
      "cell_type": "markdown",
      "source": [
        "Завдання 1 \\\n",
        "Візуалізуй функцію на відрізку від 0 до 24. За допомогою SymPy порахуй невизначений інтеграл функції та інтеграл від a до b."
      ],
      "metadata": {
        "id": "E13qMYCVcUVF"
      }
    },
    {
      "cell_type": "code",
      "execution_count": 24,
      "metadata": {
        "colab": {
          "base_uri": "https://localhost:8080/",
          "height": 507
        },
        "id": "N3fkAlzkbk2n",
        "outputId": "68377e6b-303d-4ba2-9c78-1e704090f2a5"
      },
      "outputs": [
        {
          "output_type": "display_data",
          "data": {
            "text/plain": [
              "<Figure size 640x480 with 1 Axes>"
            ],
            "image/png": "[encoded data removed]"
          },
          "metadata": {}
        },
        {
          "output_type": "stream",
          "name": "stdout",
          "text": [
            "Невизначений інтеграл функції: 4.94974746830583*sqrt(2)*erf(0.294627825494395*x - 4.41941738241592) + 2.82842712474619*sqrt(2)*erf(0.58925565098879*x - 6.48181216087669)\n",
            "Інтеграл від 9 до 18: 20.051645014188296\n"
          ]
        }
      ],
      "source": [
        "import numpy as np\n",
        "import matplotlib.pyplot as plt\n",
        "import sympy as sp\n",
        "\n",
        "# Оголошуємо змінну та функцію\n",
        "x = sp.symbols('x')\n",
        "f = 2 * (4 / (1.2 * sp.sqrt(2 * sp.pi)) * sp.exp(-0.5 * ((x - 11) / 1.2)**2) +\n",
        "         7 / (2.4 * sp.sqrt(2 * sp.pi)) * sp.exp(-0.5 * ((x - 15) / 2.4)**2))\n",
        "\n",
        "# Виводимо графік функції\n",
        "x_values = np.linspace(0, 24, 200)\n",
        "y_values = [sp.N(f.subs(x, val)) for val in x_values]  # Обчислюємо значення функції для кожної точки\n",
        "plt.plot(x_values, y_values, label='Функція f(x)', color='blue')\n",
        "plt.title('Графік функції')\n",
        "plt.xlabel('x')\n",
        "plt.ylabel('f(x)')\n",
        "plt.legend()\n",
        "plt.grid(True)\n",
        "plt.show()\n",
        "\n",
        "# Обчислюємо невизначений інтеграл функції\n",
        "indefinite_integral = sp.integrate(f, x)\n",
        "print(\"Невизначений інтеграл функції:\", indefinite_integral)\n",
        "\n",
        "# Порахуємо інтеграл\n",
        "a = 9\n",
        "b = 18\n",
        "integral_ab = float(sp.integrate(f, (x, a, b)))\n",
        "print(\"Інтеграл від {} до {}: {}\".format(a, b, integral_ab))\n"
      ]
    },
    {
      "cell_type": "markdown",
      "source": [
        "Завдання 2"
      ],
      "metadata": {
        "id": "pJCU4htDmvBW"
      }
    },
    {
      "cell_type": "code",
      "source": [
        "def rectangle_method_integration(f, a, b, n):\n",
        "    dx = (b - a) / n\n",
        "    integral = 0\n",
        "    for i in range(n):\n",
        "        x_left = a + i * dx\n",
        "        x_right = a + (i + 1) * dx\n",
        "        x_mid = (x_left + x_right) / 2\n",
        "        integral += f.subs(x, x_mid) * dx\n",
        "    return float(integral)\n",
        "\n",
        "print(rectangle_method_integration(f, a, b, 200))\n",
        ""
      ],
      "metadata": {
        "colab": {
          "base_uri": "https://localhost:8080/"
        },
        "id": "GgmcXR1dmweN",
        "outputId": "2827486a-4a4f-4a64-fb2d-c29b1e2e3f05"
      },
      "execution_count": 29,
      "outputs": [
        {
          "output_type": "stream",
          "name": "stdout",
          "text": [
            "20.051778540188344\n"
          ]
        }
      ]
    },
    {
      "cell_type": "markdown",
      "source": [
        "Завдання 3"
      ],
      "metadata": {
        "id": "uPyhEhwGnv8X"
      }
    },
    {
      "cell_type": "code",
      "source": [
        "def trapezoidal_rule_integration(f, a, b, n):\n",
        "    dx = (b - a) / n\n",
        "    integral = 0.5 * (f.subs(x, a) + f.subs(x, b))\n",
        "    for i in range(1, n):\n",
        "        x_i = a + i * dx\n",
        "        integral += f.subs(x, x_i)\n",
        "    integral *= dx\n",
        "    return float(integral)\n",
        "\n",
        "print(trapezoidal_rule_integration(f, a, b, 200))\n",
        ""
      ],
      "metadata": {
        "colab": {
          "base_uri": "https://localhost:8080/"
        },
        "id": "EpdJmIernurQ",
        "outputId": "958a16e9-618b-485c-8282-9eb6cb452179"
      },
      "execution_count": 30,
      "outputs": [
        {
          "output_type": "stream",
          "name": "stdout",
          "text": [
            "20.051377963129596\n"
          ]
        }
      ]
    },
    {
      "cell_type": "markdown",
      "source": [
        "Завдання 4"
      ],
      "metadata": {
        "id": "CD9hSr1Pz83h"
      }
    },
    {
      "cell_type": "code",
      "source": [
        "def simpsons_rule_integration(f, a, b, n):\n",
        "    dx = (b - a) / n\n",
        "    integral = f.subs(x, a) + f.subs(x, b)\n",
        "    for i in range(1, n):\n",
        "        x_i = a + i * dx\n",
        "        if i % 2 == 0:\n",
        "            integral += 2 * f.subs(x, x_i)\n",
        "        else:\n",
        "            integral += 4 * f.subs(x, x_i)\n",
        "    integral *= dx / 3\n",
        "    return float(integral)\n",
        "\n",
        "print(simpsons_rule_integration(f, a, b, 200))"
      ],
      "metadata": {
        "colab": {
          "base_uri": "https://localhost:8080/"
        },
        "id": "Me9csCLiz6Yq",
        "outputId": "2091e9a5-c43d-4233-9bd0-f762acc2535d"
      },
      "execution_count": 32,
      "outputs": [
        {
          "output_type": "stream",
          "name": "stdout",
          "text": [
            "20.051645019199785\n"
          ]
        }
      ]
    },
    {
      "cell_type": "markdown",
      "source": [
        "Завдання 5"
      ],
      "metadata": {
        "id": "jH8AWUVL2UoD"
      }
    },
    {
      "cell_type": "code",
      "source": [
        "\n",
        "from scipy.integrate import quad\n",
        "\n",
        "# Функція для чисельного інтегрування\n",
        "def integrand(x_val):\n",
        "    return float(f.subs(x, x_val))\n",
        "\n",
        "# Виконуємо чисельне інтегрування за допомогою quad\n",
        "integral_ab_scipy, error = quad(integrand, a, b)\n",
        "\n",
        "print(\"Чисельний інтеграл від {} до {}: {}\".format(a, b, integral_ab_scipy))\n",
        "print(\"Різниця точності від найменш точного методу до найбільш, де обрахунок через quad вважається абсолютно точним:\")\n",
        "print(float(abs(integral_ab_scipy - rectangle_method_integration(f, a, b, 200))))\n",
        "print(float(abs(integral_ab_scipy - trapezoidal_rule_integration(f, a, b, 200))))\n",
        "print(float(abs(integral_ab_scipy - simpsons_rule_integration(f, a, b, 200))))\n",
        "print(float(abs(integral_ab_scipy - integral_ab)))"
      ],
      "metadata": {
        "colab": {
          "base_uri": "https://localhost:8080/"
        },
        "id": "1sNr3Mk92XyS",
        "outputId": "59e745dc-dfbb-450c-a031-22cb2131da14"
      },
      "execution_count": 42,
      "outputs": [
        {
          "output_type": "stream",
          "name": "stdout",
          "text": [
            "Чисельний інтеграл від 9 до 18: 20.0516450141883\n",
            "Різниця точності:\n",
            "0.00013352600004523651\n",
            "0.00026705105870306056\n",
            "5.011486337025417e-09\n",
            "3.552713678800501e-15\n"
          ]
        }
      ]
    }
  ]
}