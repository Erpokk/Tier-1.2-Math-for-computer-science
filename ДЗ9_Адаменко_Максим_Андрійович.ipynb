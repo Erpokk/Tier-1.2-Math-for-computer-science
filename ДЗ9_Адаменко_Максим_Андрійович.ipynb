{
  "nbformat": 4,
  "nbformat_minor": 0,
  "metadata": {
    "colab": {
      "provenance": []
    },
    "kernelspec": {
      "name": "python3",
      "display_name": "Python 3"
    },
    "language_info": {
      "name": "python"
    }
  },
  "cells": [
    {
      "cell_type": "markdown",
      "source": [
        "<table>\n",
        "  <thead>\n",
        "    <tr>\n",
        "      <th>Вид робіт</th>\n",
        "      <th>Сайти</th>\n",
        "      <th>Інтернет-магазин</th>\n",
        "      <th>ERP</th>\n",
        "      <th>Годино-витрати, на міс</th>\n",
        "    </tr>\n",
        "  </thead>\n",
        "  <tbody>\n",
        "    <tr>\n",
        "      <td>Дизайнер</td>\n",
        "      <td>12 год</td>\n",
        "      <td>6 год</td>\n",
        "      <td>2 год</td>\n",
        "      <td>320 год</td>\n",
        "    </tr>\n",
        "    <tr>\n",
        "      <td>Програміст</td>\n",
        "      <td>12 год</td>\n",
        "      <td>24 год</td>\n",
        "      <td>18 год</td>\n",
        "      <td>192 год</td>\n",
        "    </tr>\n",
        "    <tr>\n",
        "      <td>Тестувальник</td>\n",
        "      <td>12 год</td>\n",
        "      <td>18 год</td>\n",
        "      <td>12 год</td>\n",
        "      <td>180 год</td>\n",
        "    </tr>\n",
        "     <tr>\n",
        "      <td>Вартість послуги, тис $</td>\n",
        "      <td>2 </td>\n",
        "      <td>9</td>\n",
        "      <td>6</td>\n",
        "    </tr>\n",
        "  </tbody>\n",
        "</table>"
      ],
      "metadata": {
        "id": "aL_b82nrf-2J"
      }
    },
    {
      "cell_type": "markdown",
      "source": [
        "Змінні: х1 - Сайти, х2 - Інтернет-магаз, х3 - ERP\\\n",
        "Цільова функція:  $2x_1 + 9x_2 + 6x_3  \\rightarrow max$\\\n",
        "Обмеження:\\\n",
        " $12x_1 + 6x_2 + 2x_3  \\leq 320$\\\n",
        " $12x_1 + 24x_2 + 18x_3  \\leq 192$\\\n",
        " $12x_1 + 18x_2 + 12x_3  \\leq 180$\\\n",
        "  $x_1 \\geq 0, x_2 \\geq 0, x_3 \\geq 0$\n",
        "\n",
        ""
      ],
      "metadata": {
        "id": "W3CIq0Kqgkb_"
      }
    },
    {
      "cell_type": "code",
      "execution_count": 4,
      "metadata": {
        "colab": {
          "base_uri": "https://localhost:8080/"
        },
        "id": "SbRBKaYkUuGB",
        "outputId": "bd7b5d33-5b66-4351-a370-734baae7c961"
      },
      "outputs": [
        {
          "output_type": "stream",
          "name": "stdout",
          "text": [
            " message: Optimization terminated successfully.\n",
            " success: True\n",
            "  status: 0\n",
            "     fun: -72.0\n",
            "       x: [ 0.000e+00  8.000e+00  0.000e+00]\n",
            "     nit: 1\n"
          ]
        },
        {
          "output_type": "stream",
          "name": "stderr",
          "text": [
            "<ipython-input-4-6a389e935c92>:19: DeprecationWarning: `method='revised simplex'` is deprecated and will be removed in SciPy 1.11.0. Please use one of the HiGHS solvers (e.g. `method='highs'`) in new code.\n",
            "  result = linprog(c, A_ub=A, b_ub=b, bounds=[x0_bounds, x1_bounds, x2_bounds], method='revised simplex')\n"
          ]
        }
      ],
      "source": [
        "from scipy.optimize import linprog\n",
        "\n",
        "# Функція корисності (прибутковість) кожного з видів робіт\n",
        "c = [-2, -9, -6]  # Потрібно максимізувати прибуток, тому ми використовуємо від'ємні значення\n",
        "\n",
        "# Обмеження\n",
        "# Оскільки ми хочемо максимізувати прибуток, ми використовуємо <=, а не >=\n",
        "A = [[12, 6, 2],    # Дизайнери\n",
        "     [12, 24, 18],    # Розробники\n",
        "     [12, 18, 12]]    # Тестувальники\n",
        "b = [320, 192, 180]  # Максимальний час роботи для кожного спеціаліста\n",
        "\n",
        "# Межі для кількості кожного виду робіт\n",
        "x0_bounds = (0, None)\n",
        "x1_bounds = (0, None)\n",
        "x2_bounds = (0, None)\n",
        "\n",
        "# Вирішення задачі лінійного програмування\n",
        "result = linprog(c, A_ub=A, b_ub=b, bounds=[x0_bounds, x1_bounds, x2_bounds], method='revised simplex')\n",
        "\n",
        "print(result)\n"
      ]
    },
    {
      "cell_type": "markdown",
      "source": [
        "Отже  оптимальний розподіл послуг 8 інтернет-магазинів в місяць і більше нічого не робити.\n",
        "Сумарний місячний дохід компанії при оптимальному розподілі є 72 тисячі доларів."
      ],
      "metadata": {
        "id": "LgaobNIcpVEw"
      }
    }
  ]
}